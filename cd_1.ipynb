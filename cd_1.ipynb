{
  "nbformat": 4,
  "nbformat_minor": 0,
  "metadata": {
    "kernelspec": {
      "display_name": "Python 3",
      "language": "python",
      "name": "python3"
    },
    "language_info": {
      "codemirror_mode": {
        "name": "ipython",
        "version": 3
      },
      "file_extension": ".py",
      "mimetype": "text/x-python",
      "name": "python",
      "nbconvert_exporter": "python",
      "pygments_lexer": "ipython3",
      "version": "3.8.3"
    },
    "colab": {
      "name": "cd 1.ipynb",
      "provenance": [],
      "toc_visible": true,
      "include_colab_link": true
    }
  },
  "cells": [
    {
      "cell_type": "markdown",
      "metadata": {
        "id": "view-in-github",
        "colab_type": "text"
      },
      "source": [
        "<a href=\"https://colab.research.google.com/github/Mithun2509/deep-learning/blob/master/cd_1.ipynb\" target=\"_parent\"><img src=\"https://colab.research.google.com/assets/colab-badge.svg\" alt=\"Open In Colab\"/></a>"
      ]
    },
    {
      "cell_type": "code",
      "metadata": {
        "id": "i9mMMef9d5r1",
        "outputId": "d6065497-50c9-4f1f-dc5c-e0183d223013",
        "colab": {
          "base_uri": "https://localhost:8080/",
          "height": 205
        }
      },
      "source": [
        "!pip install language_tool_python"
      ],
      "execution_count": null,
      "outputs": [
        {
          "output_type": "stream",
          "text": [
            "Collecting language_tool_python\n",
            "  Downloading https://files.pythonhosted.org/packages/c1/06/cb6c594ff60e4e0a402f6c65827b4c68fe0976ab4511974dde2b5825484f/language_tool_python-2.4.6-py3-none-any.whl\n",
            "Requirement already satisfied: tqdm in /usr/local/lib/python3.6/dist-packages (from language_tool_python) (4.41.1)\n",
            "Requirement already satisfied: requests in /usr/local/lib/python3.6/dist-packages (from language_tool_python) (2.23.0)\n",
            "Requirement already satisfied: urllib3!=1.25.0,!=1.25.1,<1.26,>=1.21.1 in /usr/local/lib/python3.6/dist-packages (from requests->language_tool_python) (1.24.3)\n",
            "Requirement already satisfied: chardet<4,>=3.0.2 in /usr/local/lib/python3.6/dist-packages (from requests->language_tool_python) (3.0.4)\n",
            "Requirement already satisfied: certifi>=2017.4.17 in /usr/local/lib/python3.6/dist-packages (from requests->language_tool_python) (2020.6.20)\n",
            "Requirement already satisfied: idna<3,>=2.5 in /usr/local/lib/python3.6/dist-packages (from requests->language_tool_python) (2.10)\n",
            "Installing collected packages: language-tool-python\n",
            "Successfully installed language-tool-python-2.4.6\n"
          ],
          "name": "stdout"
        }
      ]
    },
    {
      "cell_type": "code",
      "metadata": {
        "id": "TC4aYpi3ei2Q",
        "outputId": "a27b612e-934e-4e97-8270-b86d34ea70bf",
        "colab": {
          "base_uri": "https://localhost:8080/",
          "height": 34
        }
      },
      "source": [
        "from google.colab import drive\n",
        "\n",
        "drive.mount('/content/gdrive')"
      ],
      "execution_count": null,
      "outputs": [
        {
          "output_type": "stream",
          "text": [
            "Mounted at /content/gdrive\n"
          ],
          "name": "stdout"
        }
      ]
    },
    {
      "cell_type": "code",
      "metadata": {
        "id": "n_nxVTK2dnlE",
        "outputId": "26f67d4b-6d90-4cfa-a7fb-2462fec4af81",
        "colab": {
          "base_uri": "https://localhost:8080/",
          "height": 70
        }
      },
      "source": [
        "import language_tool_python\n",
        "tool = language_tool_python.LanguageTool('en-US')\n",
        "f = open('/content/gdrive/My Drive/input_py.txt', 'r')\n",
        "lines = f.readlines()\n",
        "text = ' '.join([line.strip() for line in lines])\n",
        "#with open(r'/content/gdrive/My Drive/input_py.txt', 'r') as fin:   \n",
        "    #for line in fin: \n",
        "        #text=line.split()\n",
        "        #matches = tool.check(line)\n",
        "#print(text)\n",
        "matches = tool.check(text)\n",
        "print(\"The matches in the file:\")\n",
        "print(matches)\n"
      ],
      "execution_count": null,
      "outputs": [
        {
          "output_type": "stream",
          "text": [
            "The matches in the file:\n",
            "[Match({'ruleId': 'SENTENCE_WHITESPACE', 'message': 'Add a space between sentences', 'replacements': [' Three'], 'offsetInContext': 17, 'context': 'This is an apple.Three adderees code is a type of intermediate...', 'offset': 17, 'errorLength': 5, 'category': 'TYPOGRAPHY', 'ruleIssueType': 'whitespace', 'sentence': 'Three adderees code is a type of intermediate code which is easy to gennnnerat and can be easily converted to machne code.'}), Match({'ruleId': 'MORFOLOGIK_RULE_EN_US', 'message': 'Possible spelling mistake found.', 'replacements': ['address', 'adheres', 'admires', 'Addams', 'adware', 'adders', 'Antares', 'Adderley'], 'offsetInContext': 23, 'context': 'This is an apple.Three adderees code is a type of intermediate code whi...', 'offset': 23, 'errorLength': 8, 'category': 'TYPOS', 'ruleIssueType': 'misspelling', 'sentence': 'Three adderees code is a type of intermediate code which is easy to gennnnerat and can be easily converted to machne code.'}), Match({'ruleId': 'MORFOLOGIK_RULE_EN_US', 'message': 'Possible spelling mistake found.', 'replacements': [], 'offsetInContext': 43, 'context': '...e of intermediate code which is easy to gennnnerat and can be easily converted to machne c...', 'offset': 85, 'errorLength': 10, 'category': 'TYPOS', 'ruleIssueType': 'misspelling', 'sentence': 'Three adderees code is a type of intermediate code which is easy to gennnnerat and can be easily converted to machne code.'}), Match({'ruleId': 'MORFOLOGIK_RULE_EN_US', 'message': 'Possible spelling mistake found.', 'replacements': ['machine', 'mach ne'], 'offsetInContext': 43, 'context': '...nnnnerat and can be easily converted to machne code. There are threi representations o...', 'offset': 127, 'errorLength': 6, 'category': 'TYPOS', 'ruleIssueType': 'misspelling', 'sentence': 'Three adderees code is a type of intermediate code which is easy to gennnnerat and can be easily converted to machne code.'}), Match({'ruleId': 'MORFOLOGIK_RULE_EN_US', 'message': 'Possible spelling mistake found.', 'replacements': ['three', 'threw', 'Thea', 'Tara', 'Tyra'], 'offsetInContext': 43, 'context': '...ily converted to machne code. There are threi representations of the address code nam...', 'offset': 150, 'errorLength': 5, 'category': 'TYPOS', 'ruleIssueType': 'misspelling', 'sentence': 'There are threi representations of the address code namely quadruple, triple and indirect triples.'}), Match({'ruleId': 'MORFOLOGIK_RULE_EN_US', 'message': 'Possible spelling mistake found.', 'replacements': ['temporary'], 'offsetInContext': 43, 'context': \"...epresentation doesn't make use of extra temporoary variable to represent a single operatio...\", 'offset': 372, 'errorLength': 10, 'category': 'TYPOS', 'ruleIssueType': 'misspelling', 'sentence': \"Triples representation doesn't make use of extra temporoary variable to represent a single operation instead when a reference to another triple's value is needed, apointer to that triple is used.\"}), Match({'ruleId': 'MORFOLOGIK_RULE_EN_US', 'message': 'Possible spelling mistake found.', 'replacements': ['pointer', 'a pointer'], 'offsetInContext': 43, 'context': \"...ce to another triple's value is needed, apointer to that triple is used. So, it as only ...\", 'offset': 486, 'errorLength': 8, 'category': 'TYPOS', 'ruleIssueType': 'misspelling', 'sentence': \"Triples representation doesn't make use of extra temporoary variable to represent a single operation instead when a reference to another triple's value is needed, apointer to that triple is used.\"}), Match({'ruleId': 'MORFOLOGIK_RULE_EN_US', 'message': 'Possible spelling mistake found.', 'replacements': ['namely'], 'offsetInContext': 43, 'context': '...triple is used. So, it as only 3 fields naely, op, arg1, arg2 Indirect triples makes ...', 'offset': 543, 'errorLength': 5, 'category': 'TYPOS', 'ruleIssueType': 'misspelling', 'sentence': 'So, it as only 3 fields naely, op, arg1, arg2 Indirect triples makes use of pointer to the listing of all references to computations which is made separately and stored.'})]\n"
          ],
          "name": "stdout"
        }
      ]
    },
    {
      "cell_type": "code",
      "metadata": {
        "id": "FdpKw4aBdnlK",
        "outputId": "38cdb67f-9f2b-4a7b-bba7-5df1abeac859",
        "colab": {
          "base_uri": "https://localhost:8080/",
          "height": 170
        }
      },
      "source": [
        "my_mistakes = []\n",
        "my_corrections = [] \n",
        "start_positions =[]\n",
        "end_positions = []\n",
        "#with open(r'/content/gdrive/My Drive/input_py.txt', 'r') as fin:   \n",
        "#    for lin in fin: \n",
        "#        my=lin.split(\",\")\n",
        "for rules in matches:\n",
        "    if len(rules.replacements)>0:\n",
        "        start_positions.append(rules.offset)\n",
        "        end_positions.append(rules.errorLength+rules.offset)\n",
        "        my_mistakes.append(text[rules.offset:rules.errorLength+rules.offset])\n",
        "        my_corrections.append(rules.replacements[0])\n",
        "\n",
        "print(\"The corrected words are:\") \n",
        "print(my_corrections)\n",
        "my_new_text = list(text)\n",
        "my_a=list(my_corrections) \n",
        "for m in range(len(start_positions)):\n",
        "    for i in range(len(my_new_text)):\n",
        "        my_new_text[start_positions[m]]=my_a[m]\n",
        "        if (i>start_positions[m] and i<end_positions[m]):\n",
        "            my_new_text[i]=\"\"\n",
        "\n",
        "my_new_text = \"\".join(my_new_text)\n",
        "print(\"\\nThe final corrected file is:\")\n",
        "my_new_text"
      ],
      "execution_count": null,
      "outputs": [
        {
          "output_type": "stream",
          "text": [
            "The corrected words are:\n",
            "[' Three', 'address', 'machine', 'three', 'temporary', 'pointer', 'namely']\n",
            "\n",
            "The final corrected file is:\n"
          ],
          "name": "stdout"
        },
        {
          "output_type": "execute_result",
          "data": {
            "application/vnd.google.colaboratory.intrinsic+json": {
              "type": "string"
            },
            "text/plain": [
              "\"This is an apple. Three address code is a type of intermediate code which is easy to gennnnerat and can be easily converted to machine code. There are three representations of the address code namely quadruple, triple and indirect triples. Quadruple is a structure with consist of 4 fields namely op, arg1, arg2 and result. Triples representation doesn't make use of extra temporary variable to represent a single operation instead when a reference to another triple's value is needed, pointer to that triple is used. So, it as only 3 fields namely, op, arg1, arg2 Indirect triples makes use of pointer to the listing of all references to computations which is made separately and stored. \""
            ]
          },
          "metadata": {
            "tags": []
          },
          "execution_count": 7
        }
      ]
    }
  ]
}